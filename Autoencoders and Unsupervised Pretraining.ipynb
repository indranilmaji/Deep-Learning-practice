{
 "cells": [
  {
   "cell_type": "code",
   "execution_count": null,
   "metadata": {
    "colab": {
     "base_uri": "https://localhost:8080/",
     "height": 35
    },
    "id": "tdb8mOS3YNBx",
    "outputId": "755dc6d0-fb3c-445d-c4bc-964cd49ddd13"
   },
   "outputs": [
    {
     "name": "stdout",
     "output_type": "stream",
     "text": [
      "2.2.0\n"
     ]
    }
   ],
   "source": [
    "import tensorflow as tf\n",
    "print(tf.__version__)\n",
    "import numpy as np\n",
    "import matplotlib.pyplot as plt\n",
    "from tensorflow import keras\n",
    "from tensorflow.keras.models import Model\n",
    "from tensorflow.keras import layers"
   ]
  },
  {
   "cell_type": "markdown",
   "metadata": {
    "id": "YAn33XaWKk4f"
   },
   "source": [
    "## *AutoEncoder with MLP*"
   ]
  },
  {
   "cell_type": "code",
   "execution_count": null,
   "metadata": {
    "colab": {
     "base_uri": "https://localhost:8080/",
     "height": 409
    },
    "id": "CsxbDSYAHkz9",
    "outputId": "d249358e-b8c9-4b4a-bdd4-d7684d644918"
   },
   "outputs": [
    {
     "name": "stdout",
     "output_type": "stream",
     "text": [
      "Downloading data from https://storage.googleapis.com/tensorflow/tf-keras-datasets/train-labels-idx1-ubyte.gz\n",
      "32768/29515 [=================================] - 0s 0us/step\n",
      "Downloading data from https://storage.googleapis.com/tensorflow/tf-keras-datasets/train-images-idx3-ubyte.gz\n",
      "26427392/26421880 [==============================] - 0s 0us/step\n",
      "Downloading data from https://storage.googleapis.com/tensorflow/tf-keras-datasets/t10k-labels-idx1-ubyte.gz\n",
      "8192/5148 [===============================================] - 0s 0us/step\n",
      "Downloading data from https://storage.googleapis.com/tensorflow/tf-keras-datasets/t10k-images-idx3-ubyte.gz\n",
      "4423680/4422102 [==============================] - 0s 0us/step\n"
     ]
    },
    {
     "data": {
      "image/png": "[encoded data removed]",
      "text/plain": [
       "<Figure size 432x288 with 1 Axes>"
      ]
     },
     "metadata": {
      "needs_background": "light",
      "tags": []
     },
     "output_type": "display_data"
    }
   ],
   "source": [
    "fashion_mnist = keras.datasets.fashion_mnist\n",
    "(train_images, train_labels), (test_images, test_labels) = fashion_mnist.load_data()\n",
    "\n",
    "plt.imshow(train_images[0], cmap=\"Greys_r\")\n",
    "\n",
    "train_images = train_images.astype('float32')/255\n",
    "test_images = test_images.astype('float32')/255\n",
    "train_images = train_images.reshape([-1, 784])\n",
    "test_images = test_images.reshape([-1, 784])"
   ]
  },
  {
   "cell_type": "code",
   "execution_count": null,
   "metadata": {
    "id": "iNPeX-s1nVc9"
   },
   "outputs": [],
   "source": [
    "inputs = keras.Input(shape=(784,), name='digits')\n",
    "x1 = layers.Dense(512, activation='relu', name='dense_1')(inputs)\n",
    "x2 = layers.Dense(256, activation='relu', name='dense_2')(x1)\n",
    "x3 = layers.Dense(128, activation='relu', name='dense_3')(x2)\n",
    "x4 = layers.Dense(64, activation='relu', name='dense_4')(x3)\n",
    "x5 = layers.Dense(32, activation='relu', name='dense_5')(x4)\n",
    "x6 = layers.Dense(32, activation='relu', name='dense_6')(x5)\n",
    "x7 = layers.Dense(64, activation='relu', name='dense_7')(x6)\n",
    "x8 = layers.Dense(128, activation='relu', name='dense_8')(x7)\n",
    "x9 = layers.Dense(256, activation='relu', name='dense_9')(x8)\n",
    "x10 = layers.Dense(512, activation='relu', name='encoder')(x9)\n",
    "\n",
    "encoder = keras.Model(inputs=inputs, outputs=x10,name='Encoder')\n",
    "# encoder.summary()\n",
    "\n",
    "\n"
   ]
  },
  {
   "cell_type": "markdown",
   "metadata": {
    "id": "sC-g_yBaiaNG"
   },
   "source": [
    "AutoEncoder with *Relu*"
   ]
  },
  {
   "cell_type": "code",
   "execution_count": null,
   "metadata": {
    "colab": {
     "base_uri": "https://localhost:8080/",
     "height": 737
    },
    "id": "6T2HR6Vsie5K",
    "outputId": "c698a073-c243-4a34-a7cd-16b0267d6f06"
   },
   "outputs": [
    {
     "name": "stdout",
     "output_type": "stream",
     "text": [
      "Epoch 1/20\n",
      "938/938 [==============================] - 7s 8ms/step - loss: 0.0515\n",
      "Epoch 2/20\n",
      "938/938 [==============================] - 7s 8ms/step - loss: 0.0278\n",
      "Epoch 3/20\n",
      "938/938 [==============================] - 7s 8ms/step - loss: 0.0235\n",
      "Epoch 4/20\n",
      "938/938 [==============================] - 7s 8ms/step - loss: 0.0218\n",
      "Epoch 5/20\n",
      "938/938 [==============================] - 8s 8ms/step - loss: 0.0204\n",
      "Epoch 6/20\n",
      "938/938 [==============================] - 8s 8ms/step - loss: 0.0195\n",
      "Epoch 7/20\n",
      "938/938 [==============================] - 8s 8ms/step - loss: 0.0189\n",
      "Epoch 8/20\n",
      "938/938 [==============================] - 8s 8ms/step - loss: 0.0184\n",
      "Epoch 9/20\n",
      "938/938 [==============================] - 7s 8ms/step - loss: 0.0180\n",
      "Epoch 10/20\n",
      "938/938 [==============================] - 7s 8ms/step - loss: 0.0176\n",
      "Epoch 11/20\n",
      "938/938 [==============================] - 7s 8ms/step - loss: 0.0173\n",
      "Epoch 12/20\n",
      "938/938 [==============================] - 7s 8ms/step - loss: 0.0170\n",
      "Epoch 13/20\n",
      "938/938 [==============================] - 8s 8ms/step - loss: 0.0168\n",
      "Epoch 14/20\n",
      "938/938 [==============================] - 8s 8ms/step - loss: 0.0167\n",
      "Epoch 15/20\n",
      "938/938 [==============================] - 8s 8ms/step - loss: 0.0164\n",
      "Epoch 16/20\n",
      "938/938 [==============================] - 8s 8ms/step - loss: 0.0160\n",
      "Epoch 17/20\n",
      "938/938 [==============================] - 8s 8ms/step - loss: 0.0158\n",
      "Epoch 18/20\n",
      "938/938 [==============================] - 8s 8ms/step - loss: 0.0156\n",
      "Epoch 19/20\n",
      "938/938 [==============================] - 7s 8ms/step - loss: 0.0155\n",
      "Epoch 20/20\n",
      "938/938 [==============================] - 7s 8ms/step - loss: 0.0154\n"
     ]
    }
   ],
   "source": [
    "encoder.reset_states()\n",
    "encoder_input = keras.Input(shape=(512,), name='encoded_inputs')\n",
    "decoded_layer = layers.Dense(784,activation='relu',name='predictions')(encoder_input)\n",
    "decoder = keras.Model(inputs=encoder_input, outputs=decoded_layer)\n",
    "\n",
    "#Autoencoder\n",
    "autoencoder=keras.Model(inputs=inputs, outputs=decoder(encoder(inputs)))\n",
    "\n",
    "\n",
    "#Training \n",
    "autoencoder.compile(optimizer=keras.optimizers.RMSprop(1e-3),\n",
    "    loss=[keras.losses.MeanSquaredError()])\n",
    "\n",
    "autoencoder.fit(train_images, train_images,\n",
    "                epochs=20,batch_size=64)\n",
    "\n",
    "#Testing\n",
    "decoded_image_relu = autoencoder.predict(test_images)"
   ]
  },
  {
   "cell_type": "code",
   "execution_count": null,
   "metadata": {
    "colab": {
     "base_uri": "https://localhost:8080/",
     "height": 374
    },
    "id": "cdlGadinB-Z7",
    "outputId": "5f1b167f-e422-4ba4-dca2-7c87be304e9e"
   },
   "outputs": [
    {
     "data": {
      "image/png": "[encoded data removed]",
      "text/plain": [
       "<Figure size 1800x720 with 20 Axes>"
      ]
     },
     "metadata": {
      "needs_background": "light",
      "tags": []
     },
     "output_type": "display_data"
    }
   ],
   "source": [
    "import matplotlib.pyplot as plt\n",
    "import matplotlib.image as mpimg\n",
    "plt.figure(figsize=(25,10))\n",
    "for i in range (10):\n",
    "  raw_input = plt.subplot(3,10, i+1)\n",
    "  imgplot = plt.imshow(test_images[i].reshape(28, 28), cmap=\"Greys_r\")\n",
    "  raw_input.set_title('Before')\n",
    "\n",
    "  decoded = plt.subplot(3, 10, i+1+10)\n",
    "  imgplot = plt.imshow(decoded_image_relu[i].reshape(28, 28), cmap=\"Greys_r\")\n",
    "  decoded.set_title('After')\n"
   ]
  },
  {
   "cell_type": "markdown",
   "metadata": {
    "id": "oH8-pFi-kEhF"
   },
   "source": [
    "AutoEncoder with *Sigmoid*"
   ]
  },
  {
   "cell_type": "code",
   "execution_count": null,
   "metadata": {
    "colab": {
     "base_uri": "https://localhost:8080/",
     "height": 737
    },
    "id": "886ZLdpSk7TL",
    "outputId": "665c1241-2719-41f8-d02d-ea2ad3e60bde"
   },
   "outputs": [
    {
     "name": "stdout",
     "output_type": "stream",
     "text": [
      "Epoch 1/20\n",
      "938/938 [==============================] - 8s 9ms/step - loss: 0.3034\n",
      "Epoch 2/20\n",
      "938/938 [==============================] - 8s 9ms/step - loss: 0.2877\n",
      "Epoch 3/20\n",
      "938/938 [==============================] - 8s 9ms/step - loss: 0.2852\n",
      "Epoch 4/20\n",
      "938/938 [==============================] - 8s 9ms/step - loss: 0.2839\n",
      "Epoch 5/20\n",
      "938/938 [==============================] - 8s 8ms/step - loss: 0.2830\n",
      "Epoch 6/20\n",
      "938/938 [==============================] - 8s 8ms/step - loss: 0.2824\n",
      "Epoch 7/20\n",
      "938/938 [==============================] - 8s 8ms/step - loss: 0.2819\n",
      "Epoch 8/20\n",
      "938/938 [==============================] - 8s 8ms/step - loss: 0.2815\n",
      "Epoch 9/20\n",
      "938/938 [==============================] - 8s 8ms/step - loss: 0.2811\n",
      "Epoch 10/20\n",
      "938/938 [==============================] - 8s 8ms/step - loss: 0.2808\n",
      "Epoch 11/20\n",
      "938/938 [==============================] - 8s 8ms/step - loss: 0.2806\n",
      "Epoch 12/20\n",
      "938/938 [==============================] - 8s 8ms/step - loss: 0.2803\n",
      "Epoch 13/20\n",
      "938/938 [==============================] - 8s 8ms/step - loss: 0.2801\n",
      "Epoch 14/20\n",
      "938/938 [==============================] - 8s 8ms/step - loss: 0.2799\n",
      "Epoch 15/20\n",
      "938/938 [==============================] - 8s 8ms/step - loss: 0.2797\n",
      "Epoch 16/20\n",
      "938/938 [==============================] - 8s 8ms/step - loss: 0.2796\n",
      "Epoch 17/20\n",
      "938/938 [==============================] - 8s 8ms/step - loss: 0.2794\n",
      "Epoch 18/20\n",
      "938/938 [==============================] - 8s 8ms/step - loss: 0.2792\n",
      "Epoch 19/20\n",
      "938/938 [==============================] - 8s 8ms/step - loss: 0.2791\n",
      "Epoch 20/20\n",
      "938/938 [==============================] - 8s 8ms/step - loss: 0.2790\n"
     ]
    }
   ],
   "source": [
    "encoder.reset_states()\n",
    "encoder_input = keras.Input(shape=(512,), name='encoded_inputs')\n",
    "decoded_layer = layers.Dense(784,activation='sigmoid',name='predictions')(encoder_input)\n",
    "decoder = keras.Model(inputs=encoder_input, outputs=decoded_layer)\n",
    "\n",
    "#Autoencoder\n",
    "autoencoder=keras.Model(inputs=inputs, outputs=decoder(encoder(inputs)))\n",
    "\n",
    "\n",
    "#Training \n",
    "autoencoder.compile(optimizer=keras.optimizers.RMSprop(1e-3),\n",
    "    loss=[keras.losses.BinaryCrossentropy()])\n",
    "\n",
    "autoencoder.fit(train_images, train_images,\n",
    "                epochs=20,batch_size=64)\n",
    "\n",
    "#Testing\n",
    "decoded_image_sigmoid = autoencoder.predict(test_images)"
   ]
  },
  {
   "cell_type": "code",
   "execution_count": null,
   "metadata": {
    "colab": {
     "base_uri": "https://localhost:8080/",
     "height": 374
    },
    "id": "kmqCZHpOlF7T",
    "outputId": "13154bca-be09-4eea-d188-981d88550c93"
   },
   "outputs": [
    {
     "data": {
      "image/png": "[encoded data removed]",
      "text/plain": [
       "<Figure size 1800x720 with 20 Axes>"
      ]
     },
     "metadata": {
      "needs_background": "light",
      "tags": []
     },
     "output_type": "display_data"
    }
   ],
   "source": [
    "import matplotlib.pyplot as plt\n",
    "import matplotlib.image as mpimg\n",
    "plt.figure(figsize=(25,10))\n",
    "for i in range (10):\n",
    "  raw_input = plt.subplot(3,10, i+1)\n",
    "  imgplot = plt.imshow(test_images[i].reshape(28, 28), cmap=\"Greys_r\")\n",
    "  raw_input.set_title('Before')\n",
    "\n",
    "  decoded = plt.subplot(3, 10, i+1+10)\n",
    "  imgplot = plt.imshow(decoded_image_sigmoid[i].reshape(28, 28), cmap=\"Greys_r\")\n",
    "  decoded.set_title('After')\n"
   ]
  },
  {
   "cell_type": "markdown",
   "metadata": {
    "id": "asjc3anJkIt_"
   },
   "source": [
    "AutoEncoder with *No Activation*"
   ]
  },
  {
   "cell_type": "code",
   "execution_count": null,
   "metadata": {
    "colab": {
     "base_uri": "https://localhost:8080/",
     "height": 737
    },
    "id": "m1o5qKksmD57",
    "outputId": "ebe17683-0244-4070-9589-3214340accb5"
   },
   "outputs": [
    {
     "name": "stdout",
     "output_type": "stream",
     "text": [
      "Epoch 1/20\n",
      "938/938 [==============================] - 8s 8ms/step - loss: 0.0221\n",
      "Epoch 2/20\n",
      "938/938 [==============================] - 7s 8ms/step - loss: 0.0168\n",
      "Epoch 3/20\n",
      "938/938 [==============================] - 8s 8ms/step - loss: 0.0158\n",
      "Epoch 4/20\n",
      "938/938 [==============================] - 8s 8ms/step - loss: 0.0153\n",
      "Epoch 5/20\n",
      "938/938 [==============================] - 8s 8ms/step - loss: 0.0150\n",
      "Epoch 6/20\n",
      "938/938 [==============================] - 7s 8ms/step - loss: 0.0147\n",
      "Epoch 7/20\n",
      "938/938 [==============================] - 7s 8ms/step - loss: 0.0145\n",
      "Epoch 8/20\n",
      "938/938 [==============================] - 7s 8ms/step - loss: 0.0144\n",
      "Epoch 9/20\n",
      "938/938 [==============================] - 8s 8ms/step - loss: 0.0143\n",
      "Epoch 10/20\n",
      "938/938 [==============================] - 8s 8ms/step - loss: 0.0142\n",
      "Epoch 11/20\n",
      "938/938 [==============================] - 8s 8ms/step - loss: 0.0141\n",
      "Epoch 12/20\n",
      "938/938 [==============================] - 8s 8ms/step - loss: 0.0140\n",
      "Epoch 13/20\n",
      "938/938 [==============================] - 8s 8ms/step - loss: 0.0139\n",
      "Epoch 14/20\n",
      "938/938 [==============================] - 8s 8ms/step - loss: 0.0139\n",
      "Epoch 15/20\n",
      "938/938 [==============================] - 8s 8ms/step - loss: 0.0138\n",
      "Epoch 16/20\n",
      "938/938 [==============================] - 7s 8ms/step - loss: 0.0137\n",
      "Epoch 17/20\n",
      "938/938 [==============================] - 7s 8ms/step - loss: 0.0137\n",
      "Epoch 18/20\n",
      "938/938 [==============================] - 7s 8ms/step - loss: 0.0136\n",
      "Epoch 19/20\n",
      "938/938 [==============================] - 7s 8ms/step - loss: 0.0136\n",
      "Epoch 20/20\n",
      "938/938 [==============================] - 7s 8ms/step - loss: 0.0135\n"
     ]
    }
   ],
   "source": [
    "encoder.reset_states()\n",
    "encoder_input = keras.Input(shape=(512,), name='encoded_inputs')\n",
    "decoded_layer = layers.Dense(784,name='predictions')(encoder_input)\n",
    "decoder = keras.Model(inputs=encoder_input, outputs=decoded_layer)\n",
    "\n",
    "#Autoencoder\n",
    "autoencoder=keras.Model(inputs=inputs, outputs=decoder(encoder(inputs)))\n",
    "\n",
    "\n",
    "#Training \n",
    "autoencoder.compile(optimizer=keras.optimizers.RMSprop(1e-3),\n",
    "    loss=[keras.losses.MeanSquaredError()])\n",
    "\n",
    "autoencoder.fit(train_images, train_images,\n",
    "                epochs=20,batch_size=64)\n",
    "\n",
    "#Testing\n",
    "decoded_image = autoencoder.predict(test_images)"
   ]
  },
  {
   "cell_type": "code",
   "execution_count": null,
   "metadata": {
    "colab": {
     "base_uri": "https://localhost:8080/",
     "height": 374
    },
    "id": "zeer2CjMmGEK",
    "outputId": "f0f6dc19-4b57-4c15-baad-7de4ed997a55"
   },
   "outputs": [
    {
     "data": {
      "image/png": "[encoded data removed]",
      "text/plain": [
       "<Figure size 1800x720 with 20 Axes>"
      ]
     },
     "metadata": {
      "needs_background": "light",
      "tags": []
     },
     "output_type": "display_data"
    }
   ],
   "source": [
    "import matplotlib.pyplot as plt\n",
    "import matplotlib.image as mpimg\n",
    "plt.figure(figsize=(25,10))\n",
    "for i in range (10):\n",
    "  raw_input = plt.subplot(3,10, i+1)\n",
    "  imgplot = plt.imshow(test_images[i].reshape(28, 28), cmap=\"Greys_r\")\n",
    "  raw_input.set_title('Before')\n",
    "\n",
    "  decoded = plt.subplot(3, 10, i+1+10)\n",
    "  imgplot = plt.imshow(decoded_image[i].reshape(28, 28), cmap=\"Greys_r\")\n",
    "  decoded.set_title('After')\n"
   ]
  },
  {
   "cell_type": "markdown",
   "metadata": {
    "id": "wPyidBjTK01q"
   },
   "source": [
    "## *AutoEncoder with CNN*"
   ]
  },
  {
   "cell_type": "code",
   "execution_count": null,
   "metadata": {
    "colab": {
     "base_uri": "https://localhost:8080/",
     "height": 283
    },
    "id": "ZtLJafukK3oQ",
    "outputId": "441a39e8-bfcb-41c4-a51a-f10ea36c8a9e"
   },
   "outputs": [
    {
     "name": "stdout",
     "output_type": "stream",
     "text": [
      "9\n"
     ]
    },
    {
     "data": {
      "image/png": "[encoded data removed]",
      "text/plain": [
       "<Figure size 432x288 with 1 Axes>"
      ]
     },
     "metadata": {
      "needs_background": "light",
      "tags": []
     },
     "output_type": "display_data"
    }
   ],
   "source": [
    "mnist = tf.keras.datasets.fashion_mnist\n",
    "(train_images, train_labels), (test_images, test_labels) = mnist.load_data()\n",
    "\n",
    "print(train_labels[0])\n",
    "plt.imshow(train_images[0], cmap=\"Greys_r\")\n",
    "\n",
    "# first difference: data is not reshaped to 784 anymore, but 28x28x1\n",
    "# note the 1 color channel!! this is important\n",
    "train_images = train_images.reshape([-1, 28, 28, 1]).astype(np.float32) / 255\n",
    "test_images =test_images.reshape([-1, 28, 28, 1]).astype(np.float32) / 255"
   ]
  },
  {
   "cell_type": "code",
   "execution_count": null,
   "metadata": {
    "colab": {
     "base_uri": "https://localhost:8080/",
     "height": 449
    },
    "id": "2NQJnYKjLiCy",
    "outputId": "f7cd9c30-da19-49c6-828e-d6eb73f44cd8"
   },
   "outputs": [
    {
     "name": "stdout",
     "output_type": "stream",
     "text": [
      "Model: \"sequential\"\n",
      "_________________________________________________________________\n",
      "Layer (type)                 Output Shape              Param #   \n",
      "=================================================================\n",
      "conv2d (Conv2D)              (None, 26, 26, 25)        250       \n",
      "_________________________________________________________________\n",
      "conv2d_1 (Conv2D)            (None, 24, 24, 50)        11300     \n",
      "_________________________________________________________________\n",
      "flatten (Flatten)            (None, 28800)             0         \n",
      "_________________________________________________________________\n",
      "dense (Dense)                (None, 625)               18000625  \n",
      "_________________________________________________________________\n",
      "dense_1 (Dense)              (None, 28800)             18028800  \n",
      "_________________________________________________________________\n",
      "reshape (Reshape)            (None, 24, 24, 50)        0         \n",
      "_________________________________________________________________\n",
      "conv2d_transpose (Conv2DTran (None, 26, 26, 25)        11275     \n",
      "_________________________________________________________________\n",
      "conv2d_transpose_1 (Conv2DTr (None, 28, 28, 1)         226       \n",
      "=================================================================\n",
      "Total params: 36,052,476\n",
      "Trainable params: 36,052,476\n",
      "Non-trainable params: 0\n",
      "_________________________________________________________________\n"
     ]
    }
   ],
   "source": [
    "from tensorflow.keras import datasets, layers, models\n",
    "model = tf.keras.Sequential()\n",
    "model.add(tf.keras.layers.Conv2D(25, 3, activation='relu', input_shape=(28, 28, 1)))\n",
    "# model.add(tf.keras.layers.MaxPooling2D((2, 2)))\n",
    "model.add(tf.keras.layers.Conv2D(50,3, activation='relu'))\n",
    "# model.add(tf.keras.layers.MaxPooling2D((2, 2)))\n",
    "model.add(tf.keras.layers.Flatten())\n",
    "model.add(tf.keras.layers.Dense(625))\n",
    "model.add(tf.keras.layers.Dense(28800, activation='relu'))\n",
    "model.add(tf.keras.layers.Reshape((24,24,50)))\n",
    "model.add(tf.keras.layers.Conv2DTranspose(25,3,activation='relu'))\n",
    "model.add(tf.keras.layers.Conv2DTranspose(1,3,activation='relu'))\n",
    "\n",
    "model.summary()"
   ]
  },
  {
   "cell_type": "code",
   "execution_count": null,
   "metadata": {
    "colab": {
     "base_uri": "https://localhost:8080/",
     "height": 737
    },
    "id": "QLC0WKtoV8wL",
    "outputId": "d60e3e72-2d17-408a-9350-5af2a2330607"
   },
   "outputs": [
    {
     "name": "stdout",
     "output_type": "stream",
     "text": [
      "Epoch 1/20\n",
      "938/938 [==============================] - 42s 45ms/step - loss: 0.1862\n",
      "Epoch 2/20\n",
      "938/938 [==============================] - 42s 45ms/step - loss: 0.0086\n",
      "Epoch 3/20\n",
      "938/938 [==============================] - 42s 45ms/step - loss: 0.0055\n",
      "Epoch 4/20\n",
      "938/938 [==============================] - 42s 45ms/step - loss: 0.0041\n",
      "Epoch 5/20\n",
      "938/938 [==============================] - 42s 45ms/step - loss: 0.0033\n",
      "Epoch 6/20\n",
      "938/938 [==============================] - 42s 45ms/step - loss: 0.0028\n",
      "Epoch 7/20\n",
      "938/938 [==============================] - 42s 45ms/step - loss: 0.0024\n",
      "Epoch 8/20\n",
      "938/938 [==============================] - 42s 45ms/step - loss: 0.0021\n",
      "Epoch 9/20\n",
      "938/938 [==============================] - 42s 45ms/step - loss: 0.0019\n",
      "Epoch 10/20\n",
      "938/938 [==============================] - 42s 45ms/step - loss: 0.0017\n",
      "Epoch 11/20\n",
      "938/938 [==============================] - 42s 45ms/step - loss: 0.0016\n",
      "Epoch 12/20\n",
      "938/938 [==============================] - 42s 44ms/step - loss: 0.0015\n",
      "Epoch 13/20\n",
      "938/938 [==============================] - 42s 44ms/step - loss: 0.0014\n",
      "Epoch 14/20\n",
      "938/938 [==============================] - 42s 45ms/step - loss: 0.0013\n",
      "Epoch 15/20\n",
      "938/938 [==============================] - 42s 45ms/step - loss: 0.0012\n",
      "Epoch 16/20\n",
      "938/938 [==============================] - 42s 45ms/step - loss: 0.0011\n",
      "Epoch 17/20\n",
      "938/938 [==============================] - 42s 45ms/step - loss: 0.0011\n",
      "Epoch 18/20\n",
      "938/938 [==============================] - 42s 45ms/step - loss: 0.0010\n",
      "Epoch 19/20\n",
      "938/938 [==============================] - 42s 45ms/step - loss: 9.9522e-04\n",
      "Epoch 20/20\n",
      "938/938 [==============================] - 42s 45ms/step - loss: 9.5486e-04\n"
     ]
    }
   ],
   "source": [
    "model.compile(optimizer=keras.optimizers.RMSprop(1e-3),\n",
    "              loss=keras.losses.MeanSquaredError())\n",
    "model.fit(train_images, train_images,\n",
    "          batch_size=64,\n",
    "          epochs=20)\n",
    "\n",
    "decoded_image = model.predict(test_images)"
   ]
  },
  {
   "cell_type": "code",
   "execution_count": null,
   "metadata": {
    "colab": {
     "base_uri": "https://localhost:8080/",
     "height": 374
    },
    "id": "Q0BfsXRbafEF",
    "outputId": "1471bd69-e110-4df9-9e4f-f15b91d537db"
   },
   "outputs": [
    {
     "data": {
      "image/png": "[encoded data removed]",
      "text/plain": [
       "<Figure size 1800x720 with 20 Axes>"
      ]
     },
     "metadata": {
      "needs_background": "light",
      "tags": []
     },
     "output_type": "display_data"
    }
   ],
   "source": [
    "import matplotlib.pyplot as plt\n",
    "import matplotlib.image as mpimg\n",
    "plt.figure(figsize=(25,10))\n",
    "for i in range (10):\n",
    "  raw_input = plt.subplot(3,10, i+1)\n",
    "  imgplot = plt.imshow(test_images[i].reshape(28, 28), cmap=\"Greys_r\")\n",
    "  raw_input.set_title('Input')\n",
    "\n",
    "  decoded = plt.subplot(3, 10, i+1+10)\n",
    "  imgplot = plt.imshow(decoded_image[i].reshape(28, 28), cmap=\"Greys_r\")\n",
    "  decoded.set_title('Reconstructed')\n"
   ]
  },
  {
   "cell_type": "code",
   "execution_count": null,
   "metadata": {
    "colab": {
     "base_uri": "https://localhost:8080/",
     "height": 265
    },
    "id": "3g4YIiRayAR5",
    "outputId": "9b973bf0-edd1-43ae-839b-3fb093eaebd8"
   },
   "outputs": [
    {
     "data": {
      "image/png": "[encoded data removed]",
      "text/plain": [
       "<Figure size 432x288 with 1 Axes>"
      ]
     },
     "metadata": {
      "needs_background": "light",
      "tags": []
     },
     "output_type": "display_data"
    }
   ],
   "source": [
    "fashion_mnist = keras.datasets.fashion_mnist\n",
    "(train_images, train_labels), (test_images, test_labels) = fashion_mnist.load_data()\n",
    "\n",
    "plt.imshow(train_images[1], cmap=\"Greys_r\")\n",
    "\n",
    "train_images = train_images[1].astype('float32')/255\n",
    "test_images = test_images.astype('float32')/255\n",
    "train_images = train_images.reshape([-1, 784])\n",
    "test_images = test_images.reshape([-1, 784])"
   ]
  },
  {
   "cell_type": "code",
   "execution_count": null,
   "metadata": {
    "id": "MM6P4ARgsW5U"
   },
   "outputs": [],
   "source": [
    "from tensorflow import keras\n",
    "from tensorflow.keras.models import Model\n",
    "from tensorflow.keras import layers\n",
    "def model_build(n):\n",
    "  inputs = keras.Input(shape=(784,), name='digits')\n",
    "  dense_1 = layers.Dense(n,activation='relu' )(inputs)\n",
    "  dense_2 = layers.Dense(n+100,activation='relu' )(dense_1)\n",
    "  \n",
    "  decoded_layer = layers.Dense(784, activation='relu',name='predictions')(dense_1)\n",
    "  model = keras.Model(inputs=inputs, outputs=decoded_layer)\n",
    "  model_output=model(train_images)\n",
    "  return tf.reshape(model_output,[28,28])\n",
    "\n",
    "fifty_dense=model_build(50)\n",
    "thirtytwo_dense=model_build(32)\n",
    "threeh_dense=model_build(300)\n",
    "sevenh_dense=model_build(700)"
   ]
  },
  {
   "cell_type": "code",
   "execution_count": null,
   "metadata": {
    "colab": {
     "base_uri": "https://localhost:8080/",
     "height": 168
    },
    "id": "-XotIzbyxBE7",
    "outputId": "81e53103-a2b2-4961-817c-6212b67c421b"
   },
   "outputs": [
    {
     "data": {
      "text/plain": [
       "Text(0.5, 1.0, 'Dim=700')"
      ]
     },
     "execution_count": 16,
     "metadata": {
      "tags": []
     },
     "output_type": "execute_result"
    },
    {
     "data": {
      "image/png": "[encoded data removed]",
      "text/plain": [
       "<Figure size 648x288 with 5 Axes>"
      ]
     },
     "metadata": {
      "needs_background": "light",
      "tags": []
     },
     "output_type": "display_data"
    }
   ],
   "source": [
    "import matplotlib.pyplot as plt\n",
    "import matplotlib.image as mpimg\n",
    "plt.figure(figsize=(9,4))\n",
    "\n",
    "a = plt.subplot(2, 5, 1)\n",
    "imgplot = plt.imshow(train_images.reshape(28, 28), cmap=\"Greys_r\")\n",
    "a.set_title('Before')\n",
    "\n",
    "a = plt.subplot(2, 5, 2)\n",
    "imgplot = plt.imshow(thirtytwo_dense, cmap=\"Greys_r\")\n",
    "a.set_title('Dim=32')\n",
    "a = plt.subplot(2, 5, 3)\n",
    "imgplot = plt.imshow(fifty_dense, cmap=\"Greys_r\")\n",
    "a.set_title('Dim=50')\n",
    "\n",
    "a = plt.subplot(2, 5, 4)\n",
    "imgplot = plt.imshow(threeh_dense, cmap=\"Greys_r\")\n",
    "a.set_title('Dim=300')\n",
    "\n",
    "a = plt.subplot(2, 5, 5)\n",
    "imgplot = plt.imshow(sevenh_dense, cmap=\"Greys_r\")\n",
    "a.set_title('Dim=700')\n"
   ]
  },
  {
   "cell_type": "code",
   "execution_count": null,
   "metadata": {
    "id": "b3S5nFrvG_WF"
   },
   "outputs": [],
   "source": [
    "def dynamic_model(x):\n",
    "  model.add(tf.keras.layers.Dense(x,activation='relu'))\n"
   ]
  },
  {
   "cell_type": "code",
   "execution_count": null,
   "metadata": {
    "colab": {
     "base_uri": "https://localhost:8080/",
     "height": 557
    },
    "id": "mXdSbF_1Gg8A",
    "outputId": "56222faf-2a83-4c47-be34-ea333b326756"
   },
   "outputs": [
    {
     "name": "stdout",
     "output_type": "stream",
     "text": [
      "Model: \"sequential_10\"\n",
      "_________________________________________________________________\n",
      "Layer (type)                 Output Shape              Param #   \n",
      "=================================================================\n",
      "dense_64 (Dense)             (None, 784)               615440    \n",
      "_________________________________________________________________\n",
      "dense_65 (Dense)             (None, 392)               307720    \n",
      "_________________________________________________________________\n",
      "dense_66 (Dense)             (None, 392)               154056    \n",
      "_________________________________________________________________\n",
      "dense_67 (Dense)             (None, 392)               154056    \n",
      "_________________________________________________________________\n",
      "dense_68 (Dense)             (None, 392)               154056    \n",
      "_________________________________________________________________\n",
      "dense_69 (Dense)             (None, 392)               154056    \n",
      "_________________________________________________________________\n",
      "dense_70 (Dense)             (None, 392)               154056    \n",
      "_________________________________________________________________\n",
      "dense_71 (Dense)             (None, 1568)              616224    \n",
      "_________________________________________________________________\n",
      "dense_72 (Dense)             (None, 1568)              2460192   \n",
      "_________________________________________________________________\n",
      "dense_73 (Dense)             (None, 1568)              2460192   \n",
      "_________________________________________________________________\n",
      "dense_74 (Dense)             (None, 784)               1230096   \n",
      "=================================================================\n",
      "Total params: 8,460,144\n",
      "Trainable params: 8,460,144\n",
      "Non-trainable params: 0\n",
      "_________________________________________________________________\n"
     ]
    }
   ],
   "source": [
    "decoded_image=[]\n",
    "dims =784\n",
    "for i in range (10):\n",
    "  dims =784\n",
    "  model = tf.keras.Sequential()\n",
    "  model.add(tf.keras.layers.Dense(784, input_shape=(784,)))\n",
    "  for j in range(i):\n",
    "    if(j<=5):\n",
    "      # dims-=20\n",
    "      dynamic_model(dims/2)\n",
    "    else:\n",
    "      # dims+=50\n",
    "      dynamic_model(dims*2)\n",
    "  model.add(tf.keras.layers.Dense(784,activation='relu'))\n",
    "  model.compile()\n",
    "\n",
    "  decoded_image.append(model(train_images))\n",
    "\n",
    "\n",
    "decoded_image_final=[]\n",
    "for i in range(10):\n",
    "  decoded_image_final.append(tf.reshape(decoded_image[i],[28,28]))\n",
    "model.summary()\n"
   ]
  },
  {
   "cell_type": "code",
   "execution_count": null,
   "metadata": {
    "colab": {
     "base_uri": "https://localhost:8080/",
     "height": 182
    },
    "id": "lJGgZi0n5kH2",
    "outputId": "e4e3740d-df77-4c8e-d783-36ccb8afdf7a"
   },
   "outputs": [
    {
     "data": {
      "image/png": "[encoded data removed]",
      "text/plain": [
       "<Figure size 1800x720 with 10 Axes>"
      ]
     },
     "metadata": {
      "needs_background": "light",
      "tags": []
     },
     "output_type": "display_data"
    }
   ],
   "source": [
    "import matplotlib.pyplot as plt\n",
    "import matplotlib.image as mpimg\n",
    "plt.figure(figsize=(25,10))\n",
    "raw_input = plt.subplot(1,10, 1)\n",
    "imgplot = plt.imshow(train_images.reshape(28, 28), cmap=\"Greys_r\")\n",
    "raw_input.set_title('Before')\n",
    "\n",
    "for i in range (1,10):\n",
    "  decoded = plt.subplot(1, 10, i+1)\n",
    "  imgplot = plt.imshow(decoded_image_final[i], cmap=\"Greys_r\")\n",
    "  decoded.set_title('After adding Layer'+str(i))"
   ]
  },
  {
   "cell_type": "markdown",
   "metadata": {
    "id": "5wntwxSabgVR"
   },
   "source": [
    "## *Unsupervised Pretraining*\n",
    "\n",
    "Idea to concat models inspired from : https://www.pyimagesearch.com/2020/02/17/autoencoders-with-keras-tensorflow-and-deep-learning/"
   ]
  },
  {
   "cell_type": "code",
   "execution_count": null,
   "metadata": {
    "colab": {
     "base_uri": "https://localhost:8080/",
     "height": 301
    },
    "id": "07aVKSYHbi8G",
    "outputId": "07b3019d-30c7-4391-8702-8c3efafff3d9"
   },
   "outputs": [
    {
     "name": "stdout",
     "output_type": "stream",
     "text": [
      "tf.Tensor([60000   784], shape=(2,), dtype=int32)\n",
      "tf.Tensor([259 784], shape=(2,), dtype=int32)\n"
     ]
    },
    {
     "data": {
      "image/png": "[encoded data removed]",
      "text/plain": [
       "<Figure size 432x288 with 1 Axes>"
      ]
     },
     "metadata": {
      "needs_background": "light",
      "tags": []
     },
     "output_type": "display_data"
    }
   ],
   "source": [
    "fashion_mnist = keras.datasets.fashion_mnist\n",
    "(train_images, train_labels), (test_images, test_labels) = fashion_mnist.load_data()\n",
    "\n",
    "plt.imshow(train_images[0], cmap=\"Greys_r\")\n",
    "\n",
    "train_images = train_images.astype('float32')/255\n",
    "test_images = test_images.astype('float32')/255\n",
    "train_images = train_images.reshape([-1, 784])\n",
    "test_images = test_images.reshape([-1, 784])\n",
    "print(tf.shape(train_images))\n",
    "\n",
    "random = tf.random.uniform([],minval=100,maxval=300,dtype=tf.int32)\n",
    "\n",
    "\n",
    "train_images_subset=train_images[:random.numpy()]\n",
    "print(tf.shape(train_images_subset))\n",
    "train_labels_subset=train_labels[:random.numpy()]"
   ]
  },
  {
   "cell_type": "markdown",
   "metadata": {
    "id": "RVfO8dAPVJ2g"
   },
   "source": [
    "### *Train autoencoder – freeze encoder – train classifier on top*"
   ]
  },
  {
   "cell_type": "code",
   "execution_count": null,
   "metadata": {
    "colab": {
     "base_uri": "https://localhost:8080/",
     "height": 755
    },
    "id": "wBv2RPYDVPWG",
    "outputId": "4ff5a4b9-2a0e-4056-9a40-1b9b599c9a9e"
   },
   "outputs": [
    {
     "name": "stdout",
     "output_type": "stream",
     "text": [
      "Epoch 1/20\n",
      "938/938 [==============================] - 8s 8ms/step - loss: 0.0515\n",
      "Epoch 2/20\n",
      "938/938 [==============================] - 8s 8ms/step - loss: 0.0282\n",
      "Epoch 3/20\n",
      "938/938 [==============================] - 8s 8ms/step - loss: 0.0240\n",
      "Epoch 4/20\n",
      "938/938 [==============================] - 8s 8ms/step - loss: 0.0217\n",
      "Epoch 5/20\n",
      "938/938 [==============================] - 7s 8ms/step - loss: 0.0200\n",
      "Epoch 6/20\n",
      "938/938 [==============================] - 8s 8ms/step - loss: 0.0190\n",
      "Epoch 7/20\n",
      "938/938 [==============================] - 8s 8ms/step - loss: 0.0182\n",
      "Epoch 8/20\n",
      "938/938 [==============================] - 8s 8ms/step - loss: 0.0177\n",
      "Epoch 9/20\n",
      "938/938 [==============================] - 8s 8ms/step - loss: 0.0173\n",
      "Epoch 10/20\n",
      "938/938 [==============================] - 8s 8ms/step - loss: 0.0170\n",
      "Epoch 11/20\n",
      "938/938 [==============================] - 8s 8ms/step - loss: 0.0167\n",
      "Epoch 12/20\n",
      "938/938 [==============================] - 8s 8ms/step - loss: 0.0165\n",
      "Epoch 13/20\n",
      "938/938 [==============================] - 8s 8ms/step - loss: 0.0163\n",
      "Epoch 14/20\n",
      "938/938 [==============================] - 8s 8ms/step - loss: 0.0161\n",
      "Epoch 15/20\n",
      "938/938 [==============================] - 8s 9ms/step - loss: 0.0160\n",
      "Epoch 16/20\n",
      "938/938 [==============================] - 8s 9ms/step - loss: 0.0158\n",
      "Epoch 17/20\n",
      "938/938 [==============================] - 8s 8ms/step - loss: 0.0156\n",
      "Epoch 18/20\n",
      "938/938 [==============================] - 8s 8ms/step - loss: 0.0154\n",
      "Epoch 19/20\n",
      "938/938 [==============================] - 7s 8ms/step - loss: 0.0153\n",
      "Epoch 20/20\n",
      "938/938 [==============================] - 8s 8ms/step - loss: 0.0152\n"
     ]
    },
    {
     "data": {
      "text/plain": [
       "<tensorflow.python.keras.callbacks.History at 0x7fdf92b54dd8>"
      ]
     },
     "execution_count": 51,
     "metadata": {
      "tags": []
     },
     "output_type": "execute_result"
    }
   ],
   "source": [
    "inputs = keras.Input(shape=(784,), name='digits')\n",
    "x1 = layers.Dense(512, activation='relu', name='dense_1')(inputs)\n",
    "x2 = layers.Dense(256, activation='relu', name='dense_2')(x1)\n",
    "x3 = layers.Dense(128, activation='relu', name='dense_3')(x2)\n",
    "x4 = layers.Dense(64, activation='relu', name='dense_4')(x3)\n",
    "x5 = layers.Dense(32, activation='relu', name='dense_5')(x4)\n",
    "x6 = layers.Dense(32, activation='relu', name='dense_6')(x5)\n",
    "x7 = layers.Dense(64, activation='relu', name='dense_7')(x6)\n",
    "x8 = layers.Dense(128, activation='relu', name='dense_8')(x7)\n",
    "x9 = layers.Dense(256, activation='relu', name='dense_9')(x8)\n",
    "x10 = layers.Dense(512, activation='relu', name='encoder')(x9)\n",
    "\n",
    "encoder0 = keras.Model(inputs=inputs, outputs=x10,name='Encoder')\n",
    "# encoder0.summary()\n",
    "inputs_d = keras.Input(shape=(512,), name='encoded_digits')\n",
    "decode = layers.Dense(784, activation='relu', name='dense_1')(inputs_d)\n",
    "decoder0 = keras.Model(inputs = inputs_d,outputs = decode,name='Decoder')\n",
    "# decoder0.summary()\n",
    "autoencoder0 = keras.Model(inputs = inputs, outputs = decoder0(encoder0(inputs)),name = 'AutoEncoder')\n",
    "# autoencoder0.summary()\n",
    "\n",
    "autoencoder0.compile(optimizer= keras.optimizers.RMSprop(1e-3),loss = keras.losses.MeanSquaredError())\n",
    "autoencoder0.fit(train_images,train_images,batch_size=64,epochs=20)\n"
   ]
  },
  {
   "cell_type": "code",
   "execution_count": null,
   "metadata": {
    "colab": {
     "base_uri": "https://localhost:8080/",
     "height": 755
    },
    "id": "0zZjhOn_atyY",
    "outputId": "9af7160a-46e5-4b11-ae53-6e0c4c2a3ff9"
   },
   "outputs": [
    {
     "name": "stdout",
     "output_type": "stream",
     "text": [
      "Epoch 1/20\n",
      "13/13 [==============================] - 0s 4ms/step - loss: 4.2565 - sparse_categorical_accuracy: 0.4479\n",
      "Epoch 2/20\n",
      "13/13 [==============================] - 0s 5ms/step - loss: 1.8108 - sparse_categorical_accuracy: 0.4788\n",
      "Epoch 3/20\n",
      "13/13 [==============================] - 0s 4ms/step - loss: 1.6895 - sparse_categorical_accuracy: 0.4788\n",
      "Epoch 4/20\n",
      "13/13 [==============================] - 0s 4ms/step - loss: 1.6345 - sparse_categorical_accuracy: 0.4595\n",
      "Epoch 5/20\n",
      "13/13 [==============================] - 0s 4ms/step - loss: 1.6607 - sparse_categorical_accuracy: 0.4131\n",
      "Epoch 6/20\n",
      "13/13 [==============================] - 0s 4ms/step - loss: 1.6447 - sparse_categorical_accuracy: 0.4015\n",
      "Epoch 7/20\n",
      "13/13 [==============================] - 0s 4ms/step - loss: 1.6447 - sparse_categorical_accuracy: 0.4015\n",
      "Epoch 8/20\n",
      "13/13 [==============================] - 0s 5ms/step - loss: 1.7006 - sparse_categorical_accuracy: 0.3938\n",
      "Epoch 9/20\n",
      "13/13 [==============================] - 0s 4ms/step - loss: 1.6892 - sparse_categorical_accuracy: 0.3822\n",
      "Epoch 10/20\n",
      "13/13 [==============================] - 0s 4ms/step - loss: 1.6951 - sparse_categorical_accuracy: 0.3977\n",
      "Epoch 11/20\n",
      "13/13 [==============================] - 0s 4ms/step - loss: 1.6981 - sparse_categorical_accuracy: 0.3784\n",
      "Epoch 12/20\n",
      "13/13 [==============================] - 0s 5ms/step - loss: 1.6981 - sparse_categorical_accuracy: 0.3784\n",
      "Epoch 13/20\n",
      "13/13 [==============================] - 0s 4ms/step - loss: 1.8471 - sparse_categorical_accuracy: 0.3282\n",
      "Epoch 14/20\n",
      "13/13 [==============================] - 0s 4ms/step - loss: 1.8403 - sparse_categorical_accuracy: 0.3166\n",
      "Epoch 15/20\n",
      "13/13 [==============================] - 0s 5ms/step - loss: 1.9252 - sparse_categorical_accuracy: 0.2973\n",
      "Epoch 16/20\n",
      "13/13 [==============================] - 0s 4ms/step - loss: 1.8936 - sparse_categorical_accuracy: 0.2934\n",
      "Epoch 17/20\n",
      "13/13 [==============================] - 0s 5ms/step - loss: 1.8899 - sparse_categorical_accuracy: 0.3089\n",
      "Epoch 18/20\n",
      "13/13 [==============================] - 0s 4ms/step - loss: 1.7781 - sparse_categorical_accuracy: 0.3436\n",
      "Epoch 19/20\n",
      "13/13 [==============================] - 0s 5ms/step - loss: 1.7601 - sparse_categorical_accuracy: 0.4093\n",
      "Epoch 20/20\n",
      "13/13 [==============================] - 0s 4ms/step - loss: 1.6625 - sparse_categorical_accuracy: 0.3938\n"
     ]
    },
    {
     "data": {
      "text/plain": [
       "<tensorflow.python.keras.callbacks.History at 0x7fdf920cc128>"
      ]
     },
     "execution_count": 52,
     "metadata": {
      "tags": []
     },
     "output_type": "execute_result"
    }
   ],
   "source": [
    "inputs_c = keras.Input(shape=(512,), name='encoded__classified_digits')\n",
    "c1 = layers.Dense(256, activation='relu', name='dense_1_c')(inputs_c)\n",
    "c2 = layers.Dense(10, activation='relu', name='dense_2_c')(c1)\n",
    "classifier0 = keras.Model(inputs=inputs_c,outputs=c2)\n",
    "# classifier.summary()\n",
    "encoder0.trainable=False # freezing the encoder weights \n",
    "\n",
    "encoder_classifier0=keras.Model(inputs=inputs,outputs=classifier0(encoder0(inputs)),name='EC')\n",
    "encoder_classifier0.compile(optimizer= keras.optimizers.RMSprop(1e-3),loss = keras.losses.SparseCategoricalCrossentropy(),metrics=['sparse_categorical_accuracy'])\n",
    "# encoder_classifier0.summary()\n",
    "encoder_classifier0.fit(train_images_subset,train_labels_subset,batch_size=20,epochs=20)"
   ]
  },
  {
   "cell_type": "code",
   "execution_count": null,
   "metadata": {
    "colab": {
     "base_uri": "https://localhost:8080/",
     "height": 53
    },
    "id": "3jvHW8fKch28",
    "outputId": "af176983-a45d-44a8-bacf-1a0df4f64059"
   },
   "outputs": [
    {
     "name": "stdout",
     "output_type": "stream",
     "text": [
      "313/313 [==============================] - 1s 3ms/step - loss: 1.9392 - sparse_categorical_accuracy: 0.3514\n",
      "test loss, test acc: [1.939199447631836, 0.3513999879360199]\n"
     ]
    }
   ],
   "source": [
    "results = encoder_classifier0.evaluate(test_images, test_labels)\n",
    "print('test loss, test acc:', results)"
   ]
  },
  {
   "cell_type": "markdown",
   "metadata": {
    "id": "PFaPje4D3_Zc"
   },
   "source": [
    "### *Train autoencoder – train classifier on top of encoder. Encoder is “fine-tuned” on the labeled subset of data.*"
   ]
  },
  {
   "cell_type": "code",
   "execution_count": null,
   "metadata": {
    "colab": {
     "base_uri": "https://localhost:8080/",
     "height": 755
    },
    "id": "ETbYg5CKa1ri",
    "outputId": "f2c12680-9f38-4de5-ca1e-6b6614afbd64"
   },
   "outputs": [
    {
     "name": "stdout",
     "output_type": "stream",
     "text": [
      "Epoch 1/20\n",
      "938/938 [==============================] - 7s 8ms/step - loss: 0.0520\n",
      "Epoch 2/20\n",
      "938/938 [==============================] - 7s 8ms/step - loss: 0.0286\n",
      "Epoch 3/20\n",
      "938/938 [==============================] - 8s 8ms/step - loss: 0.0244\n",
      "Epoch 4/20\n",
      "938/938 [==============================] - 8s 8ms/step - loss: 0.0221\n",
      "Epoch 5/20\n",
      "938/938 [==============================] - 8s 8ms/step - loss: 0.0207\n",
      "Epoch 6/20\n",
      "938/938 [==============================] - 8s 8ms/step - loss: 0.0198\n",
      "Epoch 7/20\n",
      "938/938 [==============================] - 8s 8ms/step - loss: 0.0191\n",
      "Epoch 8/20\n",
      "938/938 [==============================] - 8s 8ms/step - loss: 0.0182\n",
      "Epoch 9/20\n",
      "938/938 [==============================] - 8s 8ms/step - loss: 0.0176\n",
      "Epoch 10/20\n",
      "938/938 [==============================] - 7s 8ms/step - loss: 0.0172\n",
      "Epoch 11/20\n",
      "938/938 [==============================] - 8s 8ms/step - loss: 0.0169\n",
      "Epoch 12/20\n",
      "938/938 [==============================] - 8s 8ms/step - loss: 0.0167\n",
      "Epoch 13/20\n",
      "938/938 [==============================] - 8s 8ms/step - loss: 0.0165\n",
      "Epoch 14/20\n",
      "938/938 [==============================] - 8s 8ms/step - loss: 0.0163\n",
      "Epoch 15/20\n",
      "938/938 [==============================] - 8s 8ms/step - loss: 0.0161\n",
      "Epoch 16/20\n",
      "938/938 [==============================] - 8s 8ms/step - loss: 0.0159\n",
      "Epoch 17/20\n",
      "938/938 [==============================] - 8s 9ms/step - loss: 0.0158\n",
      "Epoch 18/20\n",
      "938/938 [==============================] - 8s 9ms/step - loss: 0.0156\n",
      "Epoch 19/20\n",
      "938/938 [==============================] - 8s 9ms/step - loss: 0.0155\n",
      "Epoch 20/20\n",
      "938/938 [==============================] - 8s 8ms/step - loss: 0.0154\n"
     ]
    },
    {
     "data": {
      "text/plain": [
       "<tensorflow.python.keras.callbacks.History at 0x7fdf90ee9c18>"
      ]
     },
     "execution_count": 54,
     "metadata": {
      "tags": []
     },
     "output_type": "execute_result"
    }
   ],
   "source": [
    "inputs = keras.Input(shape=(784,), name='digits')\n",
    "x1 = layers.Dense(512, activation='relu', name='dense_1')(inputs)\n",
    "x2 = layers.Dense(256, activation='relu', name='dense_2')(x1)\n",
    "x3 = layers.Dense(128, activation='relu', name='dense_3')(x2)\n",
    "x4 = layers.Dense(64, activation='relu', name='dense_4')(x3)\n",
    "x5 = layers.Dense(32, activation='relu', name='dense_5')(x4)\n",
    "x6 = layers.Dense(32, activation='relu', name='dense_6')(x5)\n",
    "x7 = layers.Dense(64, activation='relu', name='dense_7')(x6)\n",
    "x8 = layers.Dense(128, activation='relu', name='dense_8')(x7)\n",
    "x9 = layers.Dense(256, activation='relu', name='dense_9')(x8)\n",
    "x10 = layers.Dense(512, activation='relu', name='encoder')(x9)\n",
    "\n",
    "encoder = keras.Model(inputs=inputs, outputs=x10,name='Encoder')\n",
    "# encoder.summary()\n",
    "inputs_d = keras.Input(shape=(512,), name='encoded_digits')\n",
    "decode = layers.Dense(784, activation='relu', name='dense_1')(inputs_d)\n",
    "decoder = keras.Model(inputs = inputs_d,outputs = decode,name='Decoder')\n",
    "# decoder.summary()\n",
    "autoencoder = keras.Model(inputs = inputs, outputs = decoder(encoder(inputs)),name = 'AutoEncoder')\n",
    "# autoencoder.summary()\n",
    "\n",
    "autoencoder.compile(optimizer= keras.optimizers.RMSprop(1e-3),loss = keras.losses.MeanSquaredError())\n",
    "autoencoder.fit(train_images,train_images,batch_size=64,epochs=20)"
   ]
  },
  {
   "cell_type": "code",
   "execution_count": null,
   "metadata": {
    "colab": {
     "base_uri": "https://localhost:8080/",
     "height": 755
    },
    "id": "AZSndxoep6KZ",
    "outputId": "44e0aff1-b426-4676-968f-64ad81686980"
   },
   "outputs": [
    {
     "name": "stdout",
     "output_type": "stream",
     "text": [
      "Epoch 1/20\n",
      "5/5 [==============================] - 0s 7ms/step - loss: 5.0701 - sparse_categorical_accuracy: 0.2394\n",
      "Epoch 2/20\n",
      "5/5 [==============================] - 0s 6ms/step - loss: 2.2159 - sparse_categorical_accuracy: 0.2046\n",
      "Epoch 3/20\n",
      "5/5 [==============================] - 0s 6ms/step - loss: 2.1337 - sparse_categorical_accuracy: 0.1892\n",
      "Epoch 4/20\n",
      "5/5 [==============================] - 0s 6ms/step - loss: 2.1337 - sparse_categorical_accuracy: 0.1892\n",
      "Epoch 5/20\n",
      "5/5 [==============================] - 0s 6ms/step - loss: 2.1337 - sparse_categorical_accuracy: 0.1892\n",
      "Epoch 6/20\n",
      "5/5 [==============================] - 0s 6ms/step - loss: 2.1337 - sparse_categorical_accuracy: 0.1892\n",
      "Epoch 7/20\n",
      "5/5 [==============================] - 0s 7ms/step - loss: 2.1337 - sparse_categorical_accuracy: 0.1892\n",
      "Epoch 8/20\n",
      "5/5 [==============================] - 0s 6ms/step - loss: 2.1709 - sparse_categorical_accuracy: 0.1931\n",
      "Epoch 9/20\n",
      "5/5 [==============================] - 0s 6ms/step - loss: 2.1248 - sparse_categorical_accuracy: 0.1931\n",
      "Epoch 10/20\n",
      "5/5 [==============================] - 0s 7ms/step - loss: 2.1248 - sparse_categorical_accuracy: 0.1931\n",
      "Epoch 11/20\n",
      "5/5 [==============================] - 0s 6ms/step - loss: 2.1248 - sparse_categorical_accuracy: 0.1931\n",
      "Epoch 12/20\n",
      "5/5 [==============================] - 0s 6ms/step - loss: 2.1248 - sparse_categorical_accuracy: 0.1931\n",
      "Epoch 13/20\n",
      "5/5 [==============================] - 0s 7ms/step - loss: 2.1248 - sparse_categorical_accuracy: 0.1931\n",
      "Epoch 14/20\n",
      "5/5 [==============================] - 0s 7ms/step - loss: 2.1248 - sparse_categorical_accuracy: 0.1931\n",
      "Epoch 15/20\n",
      "5/5 [==============================] - 0s 7ms/step - loss: 2.1248 - sparse_categorical_accuracy: 0.1931\n",
      "Epoch 16/20\n",
      "5/5 [==============================] - 0s 6ms/step - loss: 2.1248 - sparse_categorical_accuracy: 0.1931\n",
      "Epoch 17/20\n",
      "5/5 [==============================] - 0s 7ms/step - loss: 2.1248 - sparse_categorical_accuracy: 0.1931\n",
      "Epoch 18/20\n",
      "5/5 [==============================] - 0s 6ms/step - loss: 2.1248 - sparse_categorical_accuracy: 0.1931\n",
      "Epoch 19/20\n",
      "5/5 [==============================] - 0s 6ms/step - loss: 2.1248 - sparse_categorical_accuracy: 0.1931\n",
      "Epoch 20/20\n",
      "5/5 [==============================] - 0s 6ms/step - loss: 2.1248 - sparse_categorical_accuracy: 0.1931\n"
     ]
    },
    {
     "data": {
      "text/plain": [
       "<tensorflow.python.keras.callbacks.History at 0x7fdf90456cf8>"
      ]
     },
     "execution_count": 55,
     "metadata": {
      "tags": []
     },
     "output_type": "execute_result"
    }
   ],
   "source": [
    "inputs_c = keras.Input(shape=(512,), name='encoded__classified_digits')\n",
    "c1 = layers.Dense(256, activation='relu', name='dense_1_c')(inputs_c)\n",
    "c2 = layers.Dense(10, activation='relu', name='dense_2_c')(c1)\n",
    "classifier = keras.Model(inputs=inputs_c,outputs=c2)\n",
    "# classifier.summary()\n",
    "\n",
    "encoder_classifier=keras.Model(inputs=inputs,outputs=classifier(encoder(inputs)),name='EC')\n",
    "encoder_classifier.compile(optimizer= keras.optimizers.RMSprop(1e-3),loss = keras.losses.SparseCategoricalCrossentropy(),metrics=['sparse_categorical_accuracy'])\n",
    "# encoder_classifier.summary()\n",
    "encoder_classifier.fit(train_images_subset,train_labels_subset,batch_size=64,epochs=20)\n"
   ]
  },
  {
   "cell_type": "code",
   "execution_count": null,
   "metadata": {
    "colab": {
     "base_uri": "https://localhost:8080/",
     "height": 53
    },
    "id": "xyl904Ry4OG7",
    "outputId": "abad51ee-60a3-4dfa-da87-b6d9e88c63b0"
   },
   "outputs": [
    {
     "name": "stdout",
     "output_type": "stream",
     "text": [
      "313/313 [==============================] - 1s 3ms/step - loss: 2.1913 - sparse_categorical_accuracy: 0.1732\n",
      "test loss, test acc: [2.1913187503814697, 0.17319999635219574]\n"
     ]
    }
   ],
   "source": [
    "results = encoder_classifier.evaluate(test_images, test_labels)\n",
    "print('test loss, test acc:', results)"
   ]
  },
  {
   "cell_type": "markdown",
   "metadata": {
    "id": "fEgVNBC0VD3f"
   },
   "source": [
    "### *Train a classifier directly on the labeled subset; no pretraining.*"
   ]
  },
  {
   "cell_type": "code",
   "execution_count": null,
   "metadata": {
    "colab": {
     "base_uri": "https://localhost:8080/",
     "height": 557
    },
    "id": "9DBO1g1HVDfI",
    "outputId": "62ff8398-b2d8-43b3-e18e-cac26551ee6b"
   },
   "outputs": [
    {
     "name": "stdout",
     "output_type": "stream",
     "text": [
      "Model: \"Encoder2\"\n",
      "_________________________________________________________________\n",
      "Layer (type)                 Output Shape              Param #   \n",
      "=================================================================\n",
      "digits (InputLayer)          [(None, 784)]             0         \n",
      "_________________________________________________________________\n",
      "dense_1 (Dense)              (None, 512)               401920    \n",
      "_________________________________________________________________\n",
      "dense_2 (Dense)              (None, 256)               131328    \n",
      "_________________________________________________________________\n",
      "dense_3 (Dense)              (None, 128)               32896     \n",
      "_________________________________________________________________\n",
      "dense_4 (Dense)              (None, 64)                8256      \n",
      "_________________________________________________________________\n",
      "dense_5 (Dense)              (None, 32)                2080      \n",
      "_________________________________________________________________\n",
      "dense_6 (Dense)              (None, 32)                1056      \n",
      "_________________________________________________________________\n",
      "dense_7 (Dense)              (None, 64)                2112      \n",
      "_________________________________________________________________\n",
      "dense_8 (Dense)              (None, 128)               8320      \n",
      "_________________________________________________________________\n",
      "dense_9 (Dense)              (None, 256)               33024     \n",
      "_________________________________________________________________\n",
      "encoder (Dense)              (None, 512)               131584    \n",
      "=================================================================\n",
      "Total params: 752,576\n",
      "Trainable params: 752,576\n",
      "Non-trainable params: 0\n",
      "_________________________________________________________________\n"
     ]
    }
   ],
   "source": [
    "inputs = keras.Input(shape=(784,), name='digits')\n",
    "x1 = layers.Dense(512, activation='relu', name='dense_1')(inputs)\n",
    "x2 = layers.Dense(256, activation='relu', name='dense_2')(x1)\n",
    "x3 = layers.Dense(128, activation='relu', name='dense_3')(x2)\n",
    "x4 = layers.Dense(64, activation='relu', name='dense_4')(x3)\n",
    "x5 = layers.Dense(32, activation='relu', name='dense_5')(x4)\n",
    "x6 = layers.Dense(32, activation='relu', name='dense_6')(x5)\n",
    "x7 = layers.Dense(64, activation='relu', name='dense_7')(x6)\n",
    "x8 = layers.Dense(128, activation='relu', name='dense_8')(x7)\n",
    "x9 = layers.Dense(256, activation='relu', name='dense_9')(x8)\n",
    "x10 = layers.Dense(512, activation='relu', name='encoder')(x9)\n",
    "\n",
    "encoder2 = keras.Model(inputs=inputs, outputs=x10,name='Encoder2')\n",
    "encoder2.summary()"
   ]
  },
  {
   "cell_type": "code",
   "execution_count": null,
   "metadata": {
    "colab": {
     "base_uri": "https://localhost:8080/",
     "height": 1000
    },
    "id": "tUxVaMokXa3q",
    "outputId": "c32d2663-d2e7-4080-c02d-1240a9da391e"
   },
   "outputs": [
    {
     "name": "stdout",
     "output_type": "stream",
     "text": [
      "Model: \"model_22\"\n",
      "_________________________________________________________________\n",
      "Layer (type)                 Output Shape              Param #   \n",
      "=================================================================\n",
      "encoded__classified_digits ( [(None, 512)]             0         \n",
      "_________________________________________________________________\n",
      "dense_1_c (Dense)            (None, 256)               131328    \n",
      "_________________________________________________________________\n",
      "dense_2_c (Dense)            (None, 10)                2570      \n",
      "=================================================================\n",
      "Total params: 133,898\n",
      "Trainable params: 133,898\n",
      "Non-trainable params: 0\n",
      "_________________________________________________________________\n",
      "Model: \"EC\"\n",
      "_________________________________________________________________\n",
      "Layer (type)                 Output Shape              Param #   \n",
      "=================================================================\n",
      "digits (InputLayer)          [(None, 784)]             0         \n",
      "_________________________________________________________________\n",
      "Encoder2 (Model)             (None, 512)               752576    \n",
      "_________________________________________________________________\n",
      "model_22 (Model)             (None, 10)                133898    \n",
      "=================================================================\n",
      "Total params: 886,474\n",
      "Trainable params: 886,474\n",
      "Non-trainable params: 0\n",
      "_________________________________________________________________\n",
      "Epoch 1/20\n",
      "13/13 [==============================] - 0s 7ms/step - loss: 6.5308 - sparse_categorical_accuracy: 0.1351\n",
      "Epoch 2/20\n",
      "13/13 [==============================] - 0s 7ms/step - loss: 2.3354 - sparse_categorical_accuracy: 0.1158\n",
      "Epoch 3/20\n",
      "13/13 [==============================] - 0s 7ms/step - loss: 2.3026 - sparse_categorical_accuracy: 0.1158\n",
      "Epoch 4/20\n",
      "13/13 [==============================] - 0s 7ms/step - loss: 2.3026 - sparse_categorical_accuracy: 0.1158\n",
      "Epoch 5/20\n",
      "13/13 [==============================] - 0s 8ms/step - loss: 2.3026 - sparse_categorical_accuracy: 0.1158\n",
      "Epoch 6/20\n",
      "13/13 [==============================] - 0s 7ms/step - loss: 2.3026 - sparse_categorical_accuracy: 0.1158\n",
      "Epoch 7/20\n",
      "13/13 [==============================] - 0s 7ms/step - loss: 2.3026 - sparse_categorical_accuracy: 0.1158\n",
      "Epoch 8/20\n",
      "13/13 [==============================] - 0s 7ms/step - loss: 2.3026 - sparse_categorical_accuracy: 0.1158\n",
      "Epoch 9/20\n",
      "13/13 [==============================] - 0s 7ms/step - loss: 2.3026 - sparse_categorical_accuracy: 0.1158\n",
      "Epoch 10/20\n",
      "13/13 [==============================] - 0s 7ms/step - loss: 2.3026 - sparse_categorical_accuracy: 0.1158\n",
      "Epoch 11/20\n",
      "13/13 [==============================] - 0s 7ms/step - loss: 2.3026 - sparse_categorical_accuracy: 0.1158\n",
      "Epoch 12/20\n",
      "13/13 [==============================] - 0s 7ms/step - loss: 2.3026 - sparse_categorical_accuracy: 0.1158\n",
      "Epoch 13/20\n",
      "13/13 [==============================] - 0s 7ms/step - loss: 2.3026 - sparse_categorical_accuracy: 0.1158\n",
      "Epoch 14/20\n",
      "13/13 [==============================] - 0s 8ms/step - loss: 2.3026 - sparse_categorical_accuracy: 0.1158\n",
      "Epoch 15/20\n",
      "13/13 [==============================] - 0s 7ms/step - loss: 2.3026 - sparse_categorical_accuracy: 0.1158\n",
      "Epoch 16/20\n",
      "13/13 [==============================] - 0s 8ms/step - loss: 2.3026 - sparse_categorical_accuracy: 0.1158\n",
      "Epoch 17/20\n",
      "13/13 [==============================] - 0s 7ms/step - loss: 2.3026 - sparse_categorical_accuracy: 0.1158\n",
      "Epoch 18/20\n",
      "13/13 [==============================] - 0s 7ms/step - loss: 2.3026 - sparse_categorical_accuracy: 0.1158\n",
      "Epoch 19/20\n",
      "13/13 [==============================] - 0s 7ms/step - loss: 2.3026 - sparse_categorical_accuracy: 0.1158\n",
      "Epoch 20/20\n",
      "13/13 [==============================] - 0s 7ms/step - loss: 2.3026 - sparse_categorical_accuracy: 0.1158\n"
     ]
    },
    {
     "data": {
      "text/plain": [
       "<tensorflow.python.keras.callbacks.History at 0x7fdf8df366a0>"
      ]
     },
     "execution_count": 61,
     "metadata": {
      "tags": []
     },
     "output_type": "execute_result"
    }
   ],
   "source": [
    "inputs_c2 = keras.Input(shape=(512,), name='encoded__classified_digits')\n",
    "c1 = layers.Dense(256, activation='relu', name='dense_1_c')(inputs_c2)\n",
    "c2 = layers.Dense(10, activation='relu', name='dense_2_c')(c1)\n",
    "classifier2 = keras.Model(inputs=inputs_c2,outputs=c2)\n",
    "classifier2.summary()\n",
    "\n",
    "encoder_classifier2=keras.Model(inputs=inputs,outputs=classifier2(encoder2(inputs)),name='EC')\n",
    "encoder_classifier2.compile(optimizer= keras.optimizers.RMSprop(1e-3),loss = keras.losses.SparseCategoricalCrossentropy(),metrics=['sparse_categorical_accuracy'])\n",
    "encoder_classifier2.summary()\n",
    "encoder_classifier2.fit(train_images_subset,train_labels_subset,batch_size=20,epochs=20)"
   ]
  },
  {
   "cell_type": "code",
   "execution_count": null,
   "metadata": {
    "colab": {
     "base_uri": "https://localhost:8080/",
     "height": 53
    },
    "id": "bVFp0ug8YIZF",
    "outputId": "a7a64274-4d5c-4c23-96c4-78b549396aa1"
   },
   "outputs": [
    {
     "name": "stdout",
     "output_type": "stream",
     "text": [
      "313/313 [==============================] - 1s 3ms/step - loss: 2.3026 - sparse_categorical_accuracy: 0.1000\n",
      "test loss, test acc: [2.30259108543396, 0.10000000149011612]\n"
     ]
    }
   ],
   "source": [
    "results = encoder_classifier2.evaluate(test_images, test_labels)\n",
    "print('test loss, test acc:', results)"
   ]
  },
  {
   "cell_type": "markdown",
   "metadata": {
    "id": "f7J-0Yr8Ylz0"
   },
   "source": [
    "# **Observation**\n",
    "\n",
    "In the first approach we are freezing the weights of encoder and we get an accuracy of 35.1%. Here we capture some information from input train data but we dont update encoder weights while training the classifier. Hence the context which is learned by the encoder is preserved. The redundant information from the features get removed.\n",
    "\n",
    "In the second approach when we train the encoder first as a part of AutoEncoder and then the classifier we get accuracy of 17.3% as we are overwriting the encoder weights now to include some redundant information from the training subset which we had discarded in the Autoencoder part.\n",
    "\n",
    "In the final approach we dont train the encoder as a part of AutoEncoder,hence it behaves as a simple feedforward neural network classifier and our accuracy drops to 10% since there is no pretraining."
   ]
  }
 ],
 "metadata": {
  "accelerator": "GPU",
  "colab": {
   "collapsed_sections": [
    "RVfO8dAPVJ2g",
    "PFaPje4D3_Zc",
    "fEgVNBC0VD3f"
   ],
   "name": "Assignment 8: Autoencoders.ipynb",
   "provenance": []
  },
  "kernelspec": {
   "display_name": "Python 3",
   "language": "python",
   "name": "python3"
  },
  "language_info": {
   "codemirror_mode": {
    "name": "ipython",
    "version": 3
   },
   "file_extension": ".py",
   "mimetype": "text/x-python",
   "name": "python",
   "nbconvert_exporter": "python",
   "pygments_lexer": "ipython3",
   "version": "3.7.6"
  }
 },
 "nbformat": 4,
 "nbformat_minor": 1
}
