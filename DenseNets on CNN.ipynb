{
 "cells": [
  {
   "cell_type": "code",
   "execution_count": null,
   "metadata": {
    "colab": {
     "base_uri": "https://localhost:8080/",
     "height": 127
    },
    "id": "6l71IdoNv7de",
    "outputId": "78a963bf-5b00-44b0-8062-673039ce6508",
    "scrolled": true
   },
   "outputs": [
    {
     "name": "stdout",
     "output_type": "stream",
     "text": [
      "Go to this URL in a browser: https://accounts.google.com/o/oauth2/auth?client_id=947318989803-6bn6qk8qdgf4n4g3pfee6491hc0brc4i.apps.googleusercontent.com&redirect_uri=urn%3aietf%3awg%3aoauth%3a2.0%3aoob&response_type=code&scope=email%20https%3a%2f%2fwww.googleapis.com%2fauth%2fdocs.test%20https%3a%2f%2fwww.googleapis.com%2fauth%2fdrive%20https%3a%2f%2fwww.googleapis.com%2fauth%2fdrive.photos.readonly%20https%3a%2f%2fwww.googleapis.com%2fauth%2fpeopleapi.readonly\n",
      "\n",
      "Enter your authorization code:\n",
      "··········\n",
      "Mounted at /content/drive\n"
     ]
    }
   ],
   "source": [
    "from google.colab import drive; drive.mount('/content/drive')"
   ]
  },
  {
   "cell_type": "code",
   "execution_count": null,
   "metadata": {
    "colab": {
     "base_uri": "https://localhost:8080/",
     "height": 35
    },
    "id": "P0GCimKJv_qw",
    "outputId": "75936a69-3e6c-4070-faba-e4753f25458c"
   },
   "outputs": [
    {
     "data": {
      "text/plain": [
       "'/content/drive/My Drive/Colab Notebooks'"
      ]
     },
     "execution_count": 13,
     "metadata": {
      "tags": []
     },
     "output_type": "execute_result"
    }
   ],
   "source": [
    "import os\n",
    "os.chdir(\"/content/drive/My Drive/Colab Notebooks\")\n",
    "os.getcwd()"
   ]
  },
  {
   "cell_type": "markdown",
   "metadata": {
    "id": "gDAPopTV2Vma"
   },
   "source": [
    "## **DenseNet on CIFAR10**"
   ]
  },
  {
   "cell_type": "code",
   "execution_count": null,
   "metadata": {
    "id": "wfQ1R1hEwAJ3"
   },
   "outputs": [],
   "source": [
    "import tensorflow as tf\n",
    "import numpy as np\n",
    "import matplotlib.pyplot as plt\n",
    "import time"
   ]
  },
  {
   "cell_type": "code",
   "execution_count": null,
   "metadata": {
    "colab": {
     "base_uri": "https://localhost:8080/",
     "height": 284
    },
    "id": "bP4MQJIpwDKL",
    "outputId": "94bba23e-841e-42d2-a93b-16bc44f842e5"
   },
   "outputs": [
    {
     "name": "stdout",
     "output_type": "stream",
     "text": [
      "[8]\n"
     ]
    },
    {
     "data": {
      "image/png": "[encoded data removed]",
      "text/plain": [
       "<Figure size 432x288 with 1 Axes>"
      ]
     },
     "metadata": {
      "needs_background": "light",
      "tags": []
     },
     "output_type": "display_data"
    }
   ],
   "source": [
    "cifar10 = tf.keras.datasets.cifar10\n",
    "(train_images, train_labels), (test_images, test_labels) = cifar10.load_data()\n",
    "print(train_labels[100])\n",
    "plt.imshow(train_images[100], cmap=\"Greys_r\")\n",
    "\n",
    "train_labels = train_labels.reshape((-1))\n",
    "test_labels = test_labels.reshape((-1))\n",
    "\n",
    "data = tf.data.Dataset.from_tensor_slices(\n",
    "    (train_images.astype(np.float32) / 255, train_labels.astype(np.int32)))\n",
    "data = data.shuffle(buffer_size=50000).batch(128).repeat()\n",
    "\n",
    "test_data = tf.data.Dataset.from_tensor_slices(\n",
    "    (test_images.astype(np.float32) / 255, test_labels.astype(np.int32))).batch(128)"
   ]
  },
  {
   "cell_type": "code",
   "execution_count": null,
   "metadata": {
    "id": "2UVkxbc7wHTb"
   },
   "outputs": [],
   "source": [
    "def dnsNet(inp1, filter_size):\n",
    "  conv1_1 = tf.keras.layers.Conv2D(filter_size, 3, activation=tf.nn.relu, padding=\"same\")(inp1)\n",
    "  conv1_2 = tf.keras.layers.Conv2D(filter_size, 3, activation=tf.nn.relu, padding=\"same\")(conv1_1)\n",
    "  conc1 = tf.keras.layers.concatenate([conv1_1, conv1_2])\n",
    "  conv1_3 = tf.keras.layers.Conv2D(filter_size, 3, activation=tf.nn.relu, padding=\"same\")(conc1)\n",
    "  conc2 = tf.keras.layers.concatenate([conv1_1, conv1_3])\n",
    "  conv1_4 = tf.keras.layers.Conv2D(filter_size, 3, activation=tf.nn.relu, padding=\"same\")(conc2)\n",
    "  conc3 = tf.keras.layers.concatenate([conv1_1, conv1_4])\n",
    "  conv1_5 = tf.keras.layers.Conv2D(filter_size, 3, activation=tf.nn.relu, padding=\"same\")(conc3)\n",
    "  return tf.keras.layers.concatenate([conv1_1, conv1_5])"
   ]
  },
  {
   "cell_type": "code",
   "execution_count": null,
   "metadata": {
    "colab": {
     "base_uri": "https://localhost:8080/",
     "height": 1000
    },
    "id": "BHfYfXjNwJBU",
    "outputId": "2d1d49c9-10a6-4d83-dd4a-3d19bc7e9872"
   },
   "outputs": [
    {
     "name": "stdout",
     "output_type": "stream",
     "text": [
      "Model: \"cifar10_model\"\n",
      "__________________________________________________________________________________________________\n",
      "Layer (type)                    Output Shape         Param #     Connected to                     \n",
      "==================================================================================================\n",
      "input_4 (InputLayer)            [(None, 32, 32, 3)]  0                                            \n",
      "__________________________________________________________________________________________________\n",
      "batch_normalization_9 (BatchNor (None, 32, 32, 3)    12          input_4[0][0]                    \n",
      "__________________________________________________________________________________________________\n",
      "activation_9 (Activation)       (None, 32, 32, 3)    0           batch_normalization_9[0][0]      \n",
      "__________________________________________________________________________________________________\n",
      "1stConv (Conv2D)                (None, 30, 30, 100)  2800        activation_9[0][0]               \n",
      "__________________________________________________________________________________________________\n",
      "max_pooling2d_18 (MaxPooling2D) (None, 15, 15, 100)  0           1stConv[0][0]                    \n",
      "__________________________________________________________________________________________________\n",
      "conv2d_63 (Conv2D)              (None, 15, 15, 16)   14416       max_pooling2d_18[0][0]           \n",
      "__________________________________________________________________________________________________\n",
      "conv2d_64 (Conv2D)              (None, 15, 15, 16)   2320        conv2d_63[0][0]                  \n",
      "__________________________________________________________________________________________________\n",
      "concatenate_36 (Concatenate)    (None, 15, 15, 32)   0           conv2d_63[0][0]                  \n",
      "                                                                 conv2d_64[0][0]                  \n",
      "__________________________________________________________________________________________________\n",
      "conv2d_65 (Conv2D)              (None, 15, 15, 16)   4624        concatenate_36[0][0]             \n",
      "__________________________________________________________________________________________________\n",
      "concatenate_37 (Concatenate)    (None, 15, 15, 32)   0           conv2d_63[0][0]                  \n",
      "                                                                 conv2d_65[0][0]                  \n",
      "__________________________________________________________________________________________________\n",
      "conv2d_66 (Conv2D)              (None, 15, 15, 16)   4624        concatenate_37[0][0]             \n",
      "__________________________________________________________________________________________________\n",
      "concatenate_38 (Concatenate)    (None, 15, 15, 32)   0           conv2d_63[0][0]                  \n",
      "                                                                 conv2d_66[0][0]                  \n",
      "__________________________________________________________________________________________________\n",
      "conv2d_67 (Conv2D)              (None, 15, 15, 16)   4624        concatenate_38[0][0]             \n",
      "__________________________________________________________________________________________________\n",
      "concatenate_39 (Concatenate)    (None, 15, 15, 32)   0           conv2d_63[0][0]                  \n",
      "                                                                 conv2d_67[0][0]                  \n",
      "__________________________________________________________________________________________________\n",
      "batch_normalization_10 (BatchNo (None, 15, 15, 32)   128         concatenate_39[0][0]             \n",
      "__________________________________________________________________________________________________\n",
      "conv2d_68 (Conv2D)              (None, 13, 13, 50)   14450       batch_normalization_10[0][0]     \n",
      "__________________________________________________________________________________________________\n",
      "max_pooling2d_19 (MaxPooling2D) (None, 6, 6, 50)     0           conv2d_68[0][0]                  \n",
      "__________________________________________________________________________________________________\n",
      "conv2d_69 (Conv2D)              (None, 6, 6, 32)     14432       max_pooling2d_19[0][0]           \n",
      "__________________________________________________________________________________________________\n",
      "conv2d_70 (Conv2D)              (None, 6, 6, 32)     9248        conv2d_69[0][0]                  \n",
      "__________________________________________________________________________________________________\n",
      "concatenate_40 (Concatenate)    (None, 6, 6, 64)     0           conv2d_69[0][0]                  \n",
      "                                                                 conv2d_70[0][0]                  \n",
      "__________________________________________________________________________________________________\n",
      "conv2d_71 (Conv2D)              (None, 6, 6, 32)     18464       concatenate_40[0][0]             \n",
      "__________________________________________________________________________________________________\n",
      "concatenate_41 (Concatenate)    (None, 6, 6, 64)     0           conv2d_69[0][0]                  \n",
      "                                                                 conv2d_71[0][0]                  \n",
      "__________________________________________________________________________________________________\n",
      "conv2d_72 (Conv2D)              (None, 6, 6, 32)     18464       concatenate_41[0][0]             \n",
      "__________________________________________________________________________________________________\n",
      "concatenate_42 (Concatenate)    (None, 6, 6, 64)     0           conv2d_69[0][0]                  \n",
      "                                                                 conv2d_72[0][0]                  \n",
      "__________________________________________________________________________________________________\n",
      "conv2d_73 (Conv2D)              (None, 6, 6, 32)     18464       concatenate_42[0][0]             \n",
      "__________________________________________________________________________________________________\n",
      "concatenate_43 (Concatenate)    (None, 6, 6, 64)     0           conv2d_69[0][0]                  \n",
      "                                                                 conv2d_73[0][0]                  \n",
      "__________________________________________________________________________________________________\n",
      "batch_normalization_11 (BatchNo (None, 6, 6, 64)     256         concatenate_43[0][0]             \n",
      "__________________________________________________________________________________________________\n",
      "conv2d_74 (Conv2D)              (None, 4, 4, 30)     17310       batch_normalization_11[0][0]     \n",
      "__________________________________________________________________________________________________\n",
      "max_pooling2d_20 (MaxPooling2D) (None, 2, 2, 30)     0           conv2d_74[0][0]                  \n",
      "__________________________________________________________________________________________________\n",
      "conv2d_75 (Conv2D)              (None, 2, 2, 64)     17344       max_pooling2d_20[0][0]           \n",
      "__________________________________________________________________________________________________\n",
      "conv2d_76 (Conv2D)              (None, 2, 2, 64)     36928       conv2d_75[0][0]                  \n",
      "__________________________________________________________________________________________________\n",
      "concatenate_44 (Concatenate)    (None, 2, 2, 128)    0           conv2d_75[0][0]                  \n",
      "                                                                 conv2d_76[0][0]                  \n",
      "__________________________________________________________________________________________________\n",
      "conv2d_77 (Conv2D)              (None, 2, 2, 64)     73792       concatenate_44[0][0]             \n",
      "__________________________________________________________________________________________________\n",
      "concatenate_45 (Concatenate)    (None, 2, 2, 128)    0           conv2d_75[0][0]                  \n",
      "                                                                 conv2d_77[0][0]                  \n",
      "__________________________________________________________________________________________________\n",
      "conv2d_78 (Conv2D)              (None, 2, 2, 64)     73792       concatenate_45[0][0]             \n",
      "__________________________________________________________________________________________________\n",
      "concatenate_46 (Concatenate)    (None, 2, 2, 128)    0           conv2d_75[0][0]                  \n",
      "                                                                 conv2d_78[0][0]                  \n",
      "__________________________________________________________________________________________________\n",
      "conv2d_79 (Conv2D)              (None, 2, 2, 64)     73792       concatenate_46[0][0]             \n",
      "__________________________________________________________________________________________________\n",
      "concatenate_47 (Concatenate)    (None, 2, 2, 128)    0           conv2d_75[0][0]                  \n",
      "                                                                 conv2d_79[0][0]                  \n",
      "__________________________________________________________________________________________________\n",
      "max_pooling2d_21 (MaxPooling2D) (None, 1, 1, 128)    0           concatenate_47[0][0]             \n",
      "__________________________________________________________________________________________________\n",
      "flatten_6 (Flatten)             (None, 128)          0           max_pooling2d_21[0][0]           \n",
      "__________________________________________________________________________________________________\n",
      "dense_9 (Dense)                 (None, 10)           1290        flatten_6[0][0]                  \n",
      "==================================================================================================\n",
      "Total params: 421,574\n",
      "Trainable params: 421,376\n",
      "Non-trainable params: 198\n",
      "__________________________________________________________________________________________________\n"
     ]
    }
   ],
   "source": [
    "inp = tf.keras.layers.Input((32, 32, 3))\n",
    "\n",
    "BatchNorm = tf.keras.layers.BatchNormalization()(inp)\n",
    "relu = tf.keras.layers.Activation('relu')(BatchNorm)\n",
    "conv1 = tf.keras.layers.Conv2D(100, 3, activation = tf.nn.relu, name= \"1stConv\")(relu)\n",
    "inp1 = tf.keras.layers.MaxPool2D((2, 2))(conv1)\n",
    "\n",
    "filter_size = 16\n",
    "dense1 = dnsNet(inp1, filter_size)\n",
    "\n",
    "BatchNorm2 = tf.keras.layers.BatchNormalization()(dense1)\n",
    "relu = tf.keras.layers.Activation('relu')(BatchNorm2)\n",
    "conv2 = tf.keras.layers.Conv2D(50, 3, activation = tf.nn.relu)(BatchNorm2)\n",
    "inp2 = tf.keras.layers.MaxPool2D((2, 2))(conv2)\n",
    "\n",
    "filter_size = 32\n",
    "dense2 = dnsNet(inp2, filter_size)\n",
    "\n",
    "BatchNorm3 = tf.keras.layers.BatchNormalization()(dense2)\n",
    "relu = tf.keras.layers.Activation('relu')(BatchNorm3)\n",
    "conv3 = tf.keras.layers.Conv2D(30, 3, activation = tf.nn.relu)(BatchNorm3)\n",
    "inp3 = tf.keras.layers.MaxPool2D((2, 2))(conv3)\n",
    "\n",
    "filter_size = 64\n",
    "dense3 = dnsNet(inp3, filter_size)\n",
    "\n",
    "# BatchNorm4 = tf.keras.layers.BatchNormalization()(dense3)\n",
    "# conv4 = tf.keras.layers.Conv2D(12, 3, activation = tf.nn.relu)(BatchNorm4)\n",
    "# inp4 = tf.keras.layers.MaxPool2D((2, 2))(conv4)\n",
    "\n",
    "# filter_size = 64\n",
    "# dense4 = dnsNet(inp4, filter_size)\n",
    "\n",
    "inp5 = tf.keras.layers.MaxPool2D((2,2))(dense3)\n",
    "flat = tf.keras.layers.Flatten()(inp5)\n",
    "out = tf.keras.layers.Dense(10)(flat)\n",
    "\n",
    "\n",
    "model = tf.keras.Model(inputs=inp, outputs=out, name='cifar10_model')\n",
    "model.summary()\n",
    "# tf.keras.utils.plot_model(model, 'my_first_model_with_shape_info.png', show_shapes=False)"
   ]
  },
  {
   "cell_type": "code",
   "execution_count": null,
   "metadata": {
    "colab": {
     "base_uri": "https://localhost:8080/",
     "height": 143
    },
    "id": "wfKytd3PwLnD",
    "outputId": "b34b7d49-93aa-4c26-ce58-dbc643d86dfc"
   },
   "outputs": [
    {
     "name": "stdout",
     "output_type": "stream",
     "text": [
      "Epoch 1/3\n",
      "2000/2000 [==============================] - 26s 13ms/step - loss: 1.0343 - sparse_categorical_accuracy: 0.6293\n",
      "Epoch 2/3\n",
      "2000/2000 [==============================] - 25s 13ms/step - loss: 0.5574 - sparse_categorical_accuracy: 0.8045\n",
      "Epoch 3/3\n",
      "2000/2000 [==============================] - 25s 13ms/step - loss: 0.3640 - sparse_categorical_accuracy: 0.8706\n"
     ]
    },
    {
     "data": {
      "text/plain": [
       "<tensorflow.python.keras.callbacks.History at 0x7f7f61a820b8>"
      ]
     },
     "execution_count": 34,
     "metadata": {
      "tags": []
     },
     "output_type": "execute_result"
    }
   ],
   "source": [
    "opt = tf.optimizers.Adam()\n",
    "\n",
    "loss_fn = tf.losses.SparseCategoricalCrossentropy(from_logits=True)\n",
    "\n",
    "train_acc_metric = tf.metrics.SparseCategoricalAccuracy()\n",
    "\n",
    "model.compile(optimizer= opt, loss= loss_fn, metrics= [train_acc_metric])\n",
    "\n",
    "model.fit(data, steps_per_epoch=2000, epochs=3)"
   ]
  },
  {
   "cell_type": "code",
   "execution_count": null,
   "metadata": {
    "colab": {
     "base_uri": "https://localhost:8080/",
     "height": 53
    },
    "id": "9HR9vnJXwVX_",
    "outputId": "e029d238-0dac-4bd4-81e7-5acb08e4a664"
   },
   "outputs": [
    {
     "name": "stdout",
     "output_type": "stream",
     "text": [
      "79/79 [==============================] - 0s 5ms/step - loss: 0.8746 - sparse_categorical_accuracy: 0.7633\n"
     ]
    },
    {
     "data": {
      "text/plain": [
       "[0.8746414184570312, 0.7633000016212463]"
      ]
     },
     "execution_count": 35,
     "metadata": {
      "tags": []
     },
     "output_type": "execute_result"
    }
   ],
   "source": [
    "model.evaluate(test_data)"
   ]
  },
  {
   "cell_type": "markdown",
   "metadata": {
    "id": "Yon-3zhI3edD"
   },
   "source": [
    "**Observation** : Training accuracy = 87.06%     Test accuracy = 76.33%"
   ]
  },
  {
   "cell_type": "markdown",
   "metadata": {
    "id": "TmZ8qcZyk_TP"
   },
   "source": [
    "## *tf.function*"
   ]
  },
  {
   "cell_type": "code",
   "execution_count": null,
   "metadata": {
    "colab": {
     "base_uri": "https://localhost:8080/",
     "height": 449
    },
    "id": "cWDZx2eGjWi7",
    "outputId": "80177d0a-8d88-4cf6-b9a4-bc46b9be2ff8"
   },
   "outputs": [
    {
     "name": "stdout",
     "output_type": "stream",
     "text": [
      "Model: \"sequential_2\"\n",
      "_________________________________________________________________\n",
      "Layer (type)                 Output Shape              Param #   \n",
      "=================================================================\n",
      "conv2d_6 (Conv2D)            (None, 26, 26, 28)        280       \n",
      "_________________________________________________________________\n",
      "conv2d_7 (Conv2D)            (None, 24, 24, 32)        8096      \n",
      "_________________________________________________________________\n",
      "max_pooling2d_4 (MaxPooling2 (None, 12, 12, 32)        0         \n",
      "_________________________________________________________________\n",
      "conv2d_8 (Conv2D)            (None, 10, 10, 56)        16184     \n",
      "_________________________________________________________________\n",
      "max_pooling2d_5 (MaxPooling2 (None, 5, 5, 56)          0         \n",
      "_________________________________________________________________\n",
      "flatten_2 (Flatten)          (None, 1400)              0         \n",
      "_________________________________________________________________\n",
      "dense_4 (Dense)              (None, 100)               140100    \n",
      "_________________________________________________________________\n",
      "dense_5 (Dense)              (None, 10)                1010      \n",
      "=================================================================\n",
      "Total params: 165,670\n",
      "Trainable params: 165,670\n",
      "Non-trainable params: 0\n",
      "_________________________________________________________________\n"
     ]
    }
   ],
   "source": [
    "import tensorflow as tf\n",
    "import numpy as np\n",
    "import os, sys\n",
    "import matplotlib.pyplot as plt\n",
    "import time\n",
    "\n",
    "\n",
    "mnist = tf.keras.datasets.mnist\n",
    "(train_images, train_labels), (test_images, test_labels) = mnist.load_data()\n",
    "\n",
    "# print(train_labels[0])\n",
    "# plt.imshow(train_images[0], cmap='Greys_r')\n",
    "\n",
    "train_images = train_images.reshape([-1, 28, 28, 1])\n",
    "train_images = train_images.astype(np.float32) / 255\n",
    "test_images = test_images.reshape([-1, 28, 28, 1])\n",
    "test_images = test_images.astype(np.float32) / 255\n",
    "\n",
    "data = tf.data.Dataset.from_tensor_slices(\n",
    "    (train_images, train_labels.astype(np.int32)))\n",
    "data = data.shuffle(buffer_size=60000).batch(128).repeat()\n",
    "\n",
    "# note: we batch the test data, but do not shuffle/repeat\n",
    "test_data = tf.data.Dataset.from_tensor_slices(\n",
    "    (test_images, test_labels.astype(np.int32))).batch(128)\n",
    "\n",
    "\n",
    "\n",
    "from tensorflow.keras import datasets, layers, models\n",
    "model = tf.keras.Sequential()\n",
    "model.add(tf.keras.layers.Conv2D(28, 3, activation='relu', input_shape=(28,28,1)))\n",
    "model.add(tf.keras.layers.Conv2D(32, 3, activation='relu'))\n",
    "model.add(tf.keras.layers.MaxPool2D((2, 2)))\n",
    "model.add(tf.keras.layers.Conv2D(56, 3, activation='relu'))\n",
    "model.add(tf.keras.layers.MaxPool2D((2, 2)))\n",
    "\n",
    "model.add(tf.keras.layers.Flatten())\n",
    "model.add(tf.keras.layers.Dense(100, activation='relu'))\n",
    "model.add(tf.keras.layers.Dense(10))\n",
    "model.summary()"
   ]
  },
  {
   "cell_type": "code",
   "execution_count": null,
   "metadata": {
    "id": "t9stz565qj1e"
   },
   "outputs": [],
   "source": [
    "train_steps = 2500\n",
    "# opt = tf.optimizers.SGD(0.01)\n",
    "opt = tf.optimizers.Adam(0.01)\n",
    "\n",
    "# from_logits = True!! #neverforget\n",
    "loss_fn = tf.losses.SparseCategoricalCrossentropy(from_logits=True)\n",
    "train_acc_metric = tf.keras.metrics.SparseCategoricalAccuracy()"
   ]
  },
  {
   "cell_type": "code",
   "execution_count": null,
   "metadata": {
    "id": "N1AzyIjEoevB"
   },
   "outputs": [],
   "source": [
    "@tf.function\n",
    "def grd(imgs, lbls):\n",
    "  with tf.GradientTape() as t:\n",
    "      logits = model(imgs)\n",
    "      # loss format is generally: first argument targets, second argument outputs\n",
    "      xent = loss_fn(lbls, logits)\n",
    "      varis = model.trainable_variables\n",
    "      grads = t.gradient(xent, varis)\n",
    "      opt.apply_gradients(zip(grads, varis))\n",
    "      # train_acc_metric(lbls, logits)\n",
    "  return (logits, xent)"
   ]
  },
  {
   "cell_type": "code",
   "execution_count": null,
   "metadata": {
    "colab": {
     "base_uri": "https://localhost:8080/",
     "height": 503
    },
    "id": "A3qgmEtDoiaX",
    "outputId": "2a3d9af2-5c21-4bd0-8257-244da6cf3bf9"
   },
   "outputs": [
    {
     "name": "stdout",
     "output_type": "stream",
     "text": [
      "Loss: 2.2981443405151367 Accuracy: 0.171875\n",
      "Loss: 0.016952555626630783 Accuracy: 1.0\n",
      "Loss: 0.031292058527469635 Accuracy: 0.9921875\n",
      "Loss: 0.10141630470752716 Accuracy: 0.9609375\n",
      "Loss: 0.07408521324396133 Accuracy: 0.9765625\n",
      "Loss: 0.008410639129579067 Accuracy: 1.0\n",
      "Loss: 0.017894333228468895 Accuracy: 1.0\n",
      "Loss: 0.15510937571525574 Accuracy: 0.9453125\n",
      "Loss: 0.10325734317302704 Accuracy: 0.9609375\n",
      "Loss: 0.01843266747891903 Accuracy: 1.0\n",
      "Loss: 0.07056888937950134 Accuracy: 0.9765625\n",
      "Loss: 0.03711150586605072 Accuracy: 0.9921875\n",
      "Loss: 0.023171206936240196 Accuracy: 0.9921875\n",
      "Loss: 0.02340022288262844 Accuracy: 0.9921875\n",
      "Loss: 0.03551407903432846 Accuracy: 0.9765625\n",
      "Loss: 0.000888646231032908 Accuracy: 1.0\n",
      "Loss: 0.024030419066548347 Accuracy: 0.9921875\n",
      "Loss: 0.027563482522964478 Accuracy: 0.9921875\n",
      "Loss: 0.04432711377739906 Accuracy: 0.9921875\n",
      "Loss: 0.03643118962645531 Accuracy: 0.9921875\n",
      "Loss: 0.03726992756128311 Accuracy: 0.984375\n",
      "Loss: 0.04279814660549164 Accuracy: 0.9921875\n",
      "Loss: 0.0031077605672180653 Accuracy: 1.0\n",
      "Loss: 0.0918518453836441 Accuracy: 0.984375\n",
      "Loss: 0.0008423267863690853 Accuracy: 1.0\n",
      "Loss: 0.019140832126140594 Accuracy: 0.9921875\n",
      "Took 7.780219554901123 seconds for execution.\n"
     ]
    }
   ],
   "source": [
    "start = time.time()\n",
    "for step, (img_batch, lbl_batch) in enumerate(data):\n",
    "    # start = time.time()\n",
    "    if step > train_steps:\n",
    "        break\n",
    "    logits, xent = grd(img_batch, lbl_batch)\n",
    "\n",
    "    \n",
    "    if (step % 100 == 0):\n",
    "\n",
    "      train_acc_metric(lbl_batch, logits)\n",
    "      acc = train_acc_metric.result()\n",
    "      print(\"Loss: {} Accuracy: {}\".format(xent, acc))\n",
    "      train_acc_metric.reset_states()\n",
    "stop = time.time()\n",
    "print(\"Took {} seconds for execution.\".format(stop - start))"
   ]
  },
  {
   "cell_type": "code",
   "execution_count": null,
   "metadata": {
    "colab": {
     "base_uri": "https://localhost:8080/",
     "height": 35
    },
    "id": "6hI2pD9golE2",
    "outputId": "986c6da3-604d-4d6d-fa59-bde0cc4cd8bc"
   },
   "outputs": [
    {
     "name": "stdout",
     "output_type": "stream",
     "text": [
      "Test acc: 0.9793999791145325\n"
     ]
    }
   ],
   "source": [
    "test_acc_metric = tf.keras.metrics.SparseCategoricalAccuracy()\n",
    "for img_batch, lbl_batch in test_data:\n",
    "    test_acc_metric(lbl_batch, model(img_batch))\n",
    "print(\"Test acc: {}\".format(test_acc_metric.result()))\n",
    "test_acc_metric.reset_states()"
   ]
  },
  {
   "cell_type": "markdown",
   "metadata": {
    "id": "cYCjIR7q22ij"
   },
   "source": [
    "**Observation** : Execution time on tf.function drastically reduces to around 7 secs ."
   ]
  }
 ],
 "metadata": {
  "accelerator": "GPU",
  "colab": {
   "collapsed_sections": [],
   "name": "Assignment 4: Graphs & DenseNets.ipynb",
   "provenance": []
  },
  "kernelspec": {
   "display_name": "Python 3",
   "language": "python",
   "name": "python3"
  },
  "language_info": {
   "codemirror_mode": {
    "name": "ipython",
    "version": 3
   },
   "file_extension": ".py",
   "mimetype": "text/x-python",
   "name": "python",
   "nbconvert_exporter": "python",
   "pygments_lexer": "ipython3",
   "version": "3.7.6"
  }
 },
 "nbformat": 4,
 "nbformat_minor": 1
}
